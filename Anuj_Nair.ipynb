{
  "nbformat": 4,
  "nbformat_minor": 0,
  "metadata": {
    "colab": {
      "name": "Anuj Nair.ipynb",
      "provenance": [],
      "collapsed_sections": []
    },
    "kernelspec": {
      "name": "python3",
      "display_name": "Python 3"
    },
    "language_info": {
      "name": "python"
    }
  },
  "cells": [
    {
      "cell_type": "code",
      "metadata": {
        "id": "yKl_3ScNUMdS",
        "colab": {
          "base_uri": "https://localhost:8080/",
          "height": 231
        },
        "outputId": "105b25f8-1978-4deb-b853-afd7e5408934"
      },
      "source": [
        "import numpy as np\n",
        "import pandas as pd\n",
        "import sklearn\n",
        "\n",
        "from sklearn.datasets import load_boston\n",
        "df = load_boston()\n",
        "\n",
        "df.keys ()\n",
        "boston = pd.DataFrame(df.data , colummns=df.feature_names)\n",
        "boston.head()\n",
        "\n",
        "boston ['MEDV'] =df.target\n",
        "boston.head()\n",
        "\n",
        "boston.isnull()\n",
        "boston.isnull().sum()\n",
        "from sklearn.model_selection import train_test_split\n",
        "x= boston.drop( 'MEDV', axis=1)\n",
        "y=boston ['MEDV']\n",
        "x_train, x_test, y_train, y_test = train_test_split(x,y, test)\n",
        "print(x_train.shape)\n",
        "print(x_test.shape)\n",
        "print(y_train.shape)\n",
        "print(y_test.shape)\n",
        "\n",
        "from sklearn. linear_model import LinearRegression\n",
        "from sklearn.metrics import mean_squared_error\n",
        "lin_model =LinearRegression() \n",
        "lin_model.fit(x_train ,y_train) \n",
        "y_train_predict = lin_model.predict(x_train)\n",
        "rmse=(np.sqrt (mean_squared_error(y_train ,y_train_predict)))\n",
        "print(\"The model performace for training set\")\n",
        "print(\"rmse is {}\". format (rmse)) \n",
        "print(\"\\n\")\n",
        "\n",
        "y_test_predict= lin_model.predict(x_test) \n",
        "rmse= (np.sqrt (mean_squared_error(y_test,y_test_predict)))\n",
        "print(\"The model performance for testing set\")\n",
        "print(\"RMSE is {}\".format(rmse))\n",
        "\n"
      ],
      "execution_count": 11,
      "outputs": [
        {
          "output_type": "error",
          "ename": "TypeError",
          "evalue": "ignored",
          "traceback": [
            "\u001b[0;31m---------------------------------------------------------------------------\u001b[0m",
            "\u001b[0;31mTypeError\u001b[0m                                 Traceback (most recent call last)",
            "\u001b[0;32m<ipython-input-11-3aed6c85fa5e>\u001b[0m in \u001b[0;36m<module>\u001b[0;34m()\u001b[0m\n\u001b[1;32m      7\u001b[0m \u001b[0;34m\u001b[0m\u001b[0m\n\u001b[1;32m      8\u001b[0m \u001b[0mdf\u001b[0m\u001b[0;34m.\u001b[0m\u001b[0mkeys\u001b[0m \u001b[0;34m(\u001b[0m\u001b[0;34m)\u001b[0m\u001b[0;34m\u001b[0m\u001b[0;34m\u001b[0m\u001b[0m\n\u001b[0;32m----> 9\u001b[0;31m \u001b[0mboston\u001b[0m \u001b[0;34m=\u001b[0m \u001b[0mpd\u001b[0m\u001b[0;34m.\u001b[0m\u001b[0mDataFrame\u001b[0m\u001b[0;34m(\u001b[0m\u001b[0mdf\u001b[0m\u001b[0;34m.\u001b[0m\u001b[0mdata\u001b[0m \u001b[0;34m,\u001b[0m \u001b[0mcolummns\u001b[0m\u001b[0;34m=\u001b[0m\u001b[0mdf\u001b[0m\u001b[0;34m.\u001b[0m\u001b[0mfeature_names\u001b[0m\u001b[0;34m)\u001b[0m\u001b[0;34m\u001b[0m\u001b[0;34m\u001b[0m\u001b[0m\n\u001b[0m\u001b[1;32m     10\u001b[0m \u001b[0mboston\u001b[0m\u001b[0;34m.\u001b[0m\u001b[0mhead\u001b[0m\u001b[0;34m(\u001b[0m\u001b[0;34m)\u001b[0m\u001b[0;34m\u001b[0m\u001b[0;34m\u001b[0m\u001b[0m\n\u001b[1;32m     11\u001b[0m \u001b[0;34m\u001b[0m\u001b[0m\n",
            "\u001b[0;31mTypeError\u001b[0m: __init__() got an unexpected keyword argument 'colummns'"
          ]
        }
      ]
    }
  ]
}